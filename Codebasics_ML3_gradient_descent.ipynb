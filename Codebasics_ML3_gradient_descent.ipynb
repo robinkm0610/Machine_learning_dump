{
  "nbformat": 4,
  "nbformat_minor": 0,
  "metadata": {
    "colab": {
      "provenance": [],
      "authorship_tag": "ABX9TyNi47rscsDeMLNmx1HQ4zm2",
      "include_colab_link": true
    },
    "kernelspec": {
      "name": "python3",
      "display_name": "Python 3"
    },
    "language_info": {
      "name": "python"
    }
  },
  "cells": [
    {
      "cell_type": "markdown",
      "metadata": {
        "id": "view-in-github",
        "colab_type": "text"
      },
      "source": [
        "<a href=\"https://colab.research.google.com/github/robinkm0610/Machine_learning_dump/blob/main/Codebasics_ML3_gradient_descent.ipynb\" target=\"_parent\"><img src=\"https://colab.research.google.com/assets/colab-badge.svg\" alt=\"Open In Colab\"/></a>"
      ]
    },
    {
      "cell_type": "markdown",
      "source": [
        "Mean square error mse = 1/n Σ i=n to n (Yi - Ypredicted)**2 </br>\n",
        "mse is also called cost function"
      ],
      "metadata": {
        "id": "nFfslLrMvTLf"
      }
    },
    {
      "cell_type": "markdown",
      "source": [
        "slop = change in y / change in x"
      ],
      "metadata": {
        "id": "pWlrO0-14Rbx"
      }
    },
    {
      "cell_type": "code",
      "source": [
        "import numpy as np\n",
        "import matplotlib.pyplot as plt"
      ],
      "metadata": {
        "id": "vZXEsB_5ypqd"
      },
      "execution_count": 15,
      "outputs": []
    },
    {
      "cell_type": "code",
      "source": [
        "\n",
        "def gradient_descent(x,y):\n",
        "    m_curr = b_curr = 0\n",
        "    rate = 0.01\n",
        "    n = len(x)\n",
        "    plt.scatter(x,y,color='red',marker='+',linewidth='5')\n",
        "    for i in range(10000):\n",
        "        y_predicted = m_curr * x + b_curr\n",
        "#         print (m_curr,b_curr, i)\n",
        "        plt.plot(x,y_predicted,color='green')\n",
        "        md = -(2/n)*sum(x*(y-y_predicted))\n",
        "        yd = -(2/n)*sum(y-y_predicted)\n",
        "        m_curr = m_curr - rate * md\n",
        "        b_curr = b_curr - rate * yd"
      ],
      "metadata": {
        "id": "5g1r3sR95xbi"
      },
      "execution_count": 16,
      "outputs": []
    },
    {
      "cell_type": "code",
      "source": [
        "x = np.array([1,2,3,4,5])\n",
        "y = np.array([5,7,9,11,13])"
      ],
      "metadata": {
        "id": "xgFZM5i157a0"
      },
      "execution_count": 17,
      "outputs": []
    },
    {
      "cell_type": "code",
      "source": [
        "gradient_descent(x,y)"
      ],
      "metadata": {
        "id": "b6ngk3zD6GzG"
      },
      "execution_count": null,
      "outputs": []
    }
  ]
}